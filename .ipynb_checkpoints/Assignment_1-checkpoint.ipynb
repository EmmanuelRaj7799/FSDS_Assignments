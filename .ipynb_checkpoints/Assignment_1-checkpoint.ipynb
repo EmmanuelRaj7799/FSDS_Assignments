{
 "cells": [
  {
   "cell_type": "markdown",
   "metadata": {
    "id": "0hO-xABPGTfF"
   },
   "source": [
    "### 1. In the below elements which of them are values or an expression? eg:- values can be integer or string and expressions will be mathematical operators.\n",
    "\n",
    "* = \"expression\"\n",
    "-87.8 = \"integer\"\n",
    "- = \"expression\"\n",
    "/ = \"expression\"\n",
    "+ = \"expression\"\n",
    "6 = \"integer\"\n",
    "'hello' = \"string\""
   ]
  },
  {
   "cell_type": "markdown",
   "metadata": {
    "id": "xedP-7q3G9Bi"
   },
   "source": [
    "### 2. What is the difference between string and variable?\n",
    "\n",
    "Ans : - \n",
    "1. Variables are symbols that you can use to store data in a program.\n",
    "2. Strings are data, so we can use them to fill up a variable\n",
    "\n",
    "Ex.\n",
    "String x =\"Welcome to SoloLearn\"\n",
    "X is the Variable, and we declared it as a String, use the single = to assign the text to it."
   ]
  },
  {
   "cell_type": "markdown",
   "metadata": {
    "id": "tknhbVDRHvB6"
   },
   "source": [
    "3. Describe three different data types."
   ]
  },
  {
   "cell_type": "markdown",
   "metadata": {
    "id": "PyFHVnLeH1mF"
   },
   "source": [
    "### 3. Describe three different data types.\n",
    "Python has the following data types built-in by default, in these categories:\n",
    "\n",
    "1. Type:\tstr\n",
    "2. Numeric Types:\tint, float, complex\n",
    "3. Sequence Types:\tlist, tuple, range\n",
    "4. Mapping Type:\tdict\n",
    "5. Set Types:\tset, frozenset\n",
    "6. Boolean Type:\tbool\n",
    "7. Binary Types:\tbytes, bytearray, memoryview\n",
    "8. None Type:\tNoneType\n",
    "\n"
   ]
  },
  {
   "cell_type": "markdown",
   "metadata": {
    "id": "Ra8arU_BIWuI"
   },
   "source": [
    "### 4. What is an expression made up of? What do all expressions do?\n",
    "\n",
    "An expression is a combination of operators and operands that is interpreted to produce some other value. In any programming language, an expression is evaluated as per the precedence of its operators."
   ]
  },
  {
   "cell_type": "markdown",
   "metadata": {
    "id": "nv9JgeqqI4dR"
   },
   "source": [
    "### 5. This assignment statements, like spam = 10. What is the difference between an expression and a statement?\n",
    "\n",
    "Ans: - An “expression” is a combination of values and functions that are combined and interpreted by the compiler to create a new value, as opposed to a “statement” which is just a standalone unit of execution and doesn't return anything."
   ]
  },
  {
   "cell_type": "markdown",
   "metadata": {
    "id": "boHXoxY_JVHy"
   },
   "source": [
    "### 6. After running the following code, what does the variable bacon contain?\n",
    "\n",
    "\n",
    "*   bacon = 22\n",
    "*   bacon + 1"
   ]
  },
  {
   "cell_type": "code",
   "execution_count": 2,
   "metadata": {
    "colab": {
     "base_uri": "https://localhost:8080/"
    },
    "executionInfo": {
     "elapsed": 465,
     "status": "ok",
     "timestamp": 1657977255707,
     "user": {
      "displayName": "Satish Kumar Patri",
      "userId": "02473800090152985625"
     },
     "user_tz": -330
    },
    "id": "7SqqoiwQJP4R",
    "outputId": "4f8af034-4768-4d12-9d1f-f3d53d195b03"
   },
   "outputs": [
    {
     "name": "stdout",
     "output_type": "stream",
     "text": [
      "22\n"
     ]
    }
   ],
   "source": [
    "bacon = 22\n",
    "bacon + 1\n",
    "print(bacon)"
   ]
  },
  {
   "cell_type": "markdown",
   "metadata": {
    "id": "jOrhkr0YJf7C"
   },
   "source": [
    "### 7. What should the values of the following two terms be?\n",
    "\n",
    "*   spam + spamspam\n",
    "*   spam * 3"
   ]
  },
  {
   "cell_type": "code",
   "execution_count": 3,
   "metadata": {
    "colab": {
     "base_uri": "https://localhost:8080/"
    },
    "executionInfo": {
     "elapsed": 412,
     "status": "ok",
     "timestamp": 1657977463169,
     "user": {
      "displayName": "Satish Kumar Patri",
      "userId": "02473800090152985625"
     },
     "user_tz": -330
    },
    "id": "1X0oHFHfJtpV",
    "outputId": "9b001285-9cb3-4bf2-8d7a-33eaac0b8260"
   },
   "outputs": [
    {
     "name": "stdout",
     "output_type": "stream",
     "text": [
      "spamspamspam\n",
      "spamspamspam\n"
     ]
    }
   ],
   "source": [
    "print('spam' + 'spamspam')\n",
    "print('spam' * 3)"
   ]
  },
  {
   "cell_type": "markdown",
   "metadata": {
    "id": "ZXBS8TwsKIcy"
   },
   "source": [
    "### 8. Why is eggs a valid variable name while 100 is invalid?\n",
    "\n",
    "Ans: - eggs is valid variable name because variable name cannot begin with number."
   ]
  },
  {
   "cell_type": "markdown",
   "metadata": {
    "id": "NJuLVSwKK5HL"
   },
   "source": [
    "### 9. What three functions can be used to get the integer, floating-point number, or string version of a value?\n",
    "\n",
    "Ans: - The int() , float() , and str( ) functions will evaluate to the integer, floating-point number, and string versions of the value passed to them."
   ]
  },
  {
   "cell_type": "markdown",
   "metadata": {
    "id": "69oDznpxLITx"
   },
   "source": [
    "### 10. Why does this expression cause an error? How can you fix it?\n",
    "'I have eaten' + 99 + 'burritos'\n",
    "\n",
    "Ans:- The error is caused due to the integer value. Integer value cannot be concatenated with strings. We can fix this by converting the int value to string."
   ]
  },
  {
   "cell_type": "code",
   "execution_count": 4,
   "metadata": {
    "colab": {
     "base_uri": "https://localhost:8080/",
     "height": 166
    },
    "executionInfo": {
     "elapsed": 426,
     "status": "error",
     "timestamp": 1657978039273,
     "user": {
      "displayName": "Satish Kumar Patri",
      "userId": "02473800090152985625"
     },
     "user_tz": -330
    },
    "id": "I-fKA0wwLU_y",
    "outputId": "1f9d1562-6e03-4c1f-c004-68b74cf2b13e"
   },
   "outputs": [
    {
     "ename": "TypeError",
     "evalue": "can only concatenate str (not \"int\") to str",
     "output_type": "error",
     "traceback": [
      "\u001b[1;31m---------------------------------------------------------------------------\u001b[0m",
      "\u001b[1;31mTypeError\u001b[0m                                 Traceback (most recent call last)",
      "Input \u001b[1;32mIn [4]\u001b[0m, in \u001b[0;36m<cell line: 1>\u001b[1;34m()\u001b[0m\n\u001b[1;32m----> 1\u001b[0m \u001b[38;5;28mprint\u001b[39m(\u001b[38;5;124;43m'\u001b[39;49m\u001b[38;5;124;43mI have eaten\u001b[39;49m\u001b[38;5;124;43m'\u001b[39;49m\u001b[43m \u001b[49m\u001b[38;5;241;43m+\u001b[39;49m\u001b[43m \u001b[49m\u001b[38;5;241;43m99\u001b[39;49m \u001b[38;5;241m+\u001b[39m \u001b[38;5;124m'\u001b[39m\u001b[38;5;124mburritos\u001b[39m\u001b[38;5;124m'\u001b[39m)\n",
      "\u001b[1;31mTypeError\u001b[0m: can only concatenate str (not \"int\") to str"
     ]
    }
   ],
   "source": [
    "print('I have eaten' + 99 + 'burritos')"
   ]
  },
  {
   "cell_type": "code",
   "execution_count": 5,
   "metadata": {
    "colab": {
     "base_uri": "https://localhost:8080/"
    },
    "executionInfo": {
     "elapsed": 399,
     "status": "ok",
     "timestamp": 1657978046540,
     "user": {
      "displayName": "Satish Kumar Patri",
      "userId": "02473800090152985625"
     },
     "user_tz": -330
    },
    "id": "ot6tvlhAMTT4",
    "outputId": "f0852df3-9816-4571-fca6-21c977f40779"
   },
   "outputs": [
    {
     "name": "stdout",
     "output_type": "stream",
     "text": [
      "I have eaten 99 burritos\n"
     ]
    }
   ],
   "source": [
    "print('I have eaten' + ' 99 ' + 'burritos')"
   ]
  },
  {
   "cell_type": "code",
   "execution_count": null,
   "metadata": {},
   "outputs": [],
   "source": []
  }
 ],
 "metadata": {
  "colab": {
   "authorship_tag": "ABX9TyODg6K3YCKOjE4zxqiUM5Fl",
   "name": "iNeuron_Assignment_1.ipynb",
   "provenance": []
  },
  "kernelspec": {
   "display_name": "Python 3 (ipykernel)",
   "language": "python",
   "name": "python3"
  },
  "language_info": {
   "codemirror_mode": {
    "name": "ipython",
    "version": 3
   },
   "file_extension": ".py",
   "mimetype": "text/x-python",
   "name": "python",
   "nbconvert_exporter": "python",
   "pygments_lexer": "ipython3",
   "version": "3.9.12"
  }
 },
 "nbformat": 4,
 "nbformat_minor": 1
}
